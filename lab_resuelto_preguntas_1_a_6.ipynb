{
 "cells": [
  {
   "cell_type": "markdown",
   "id": "6c636f03",
   "metadata": {},
   "source": [
    "### Pregunta 1: Extracción de datos históricos de Tesla con yfinance"
   ]
  },
  {
   "cell_type": "code",
   "execution_count": null,
   "id": "48d43665",
   "metadata": {},
   "outputs": [],
   "source": [
    "# Instalar yfinance si es necesario\n",
    "!pip install yfinance\n",
    "\n",
    "# Importar librerías\n",
    "import yfinance as yf\n",
    "import pandas as pd\n",
    "\n",
    "# Obtener datos históricos de Tesla\n",
    "tesla = yf.Ticker(\"TSLA\")\n",
    "tesla_data = tesla.history(period=\"max\")\n",
    "\n",
    "# Resetear índice para que 'Date' sea una columna\n",
    "tesla_data.reset_index(inplace=True)\n",
    "\n",
    "# Mostrar las primeras 5 filas\n",
    "tesla_data.head()\n"
   ]
  },
  {
   "cell_type": "markdown",
   "id": "03ca06e6",
   "metadata": {},
   "source": [
    "### Pregunta 2: Webscraping para obtener ingresos de Tesla"
   ]
  },
  {
   "cell_type": "code",
   "execution_count": null,
   "id": "bb4a7de0",
   "metadata": {},
   "outputs": [],
   "source": [
    "# Importar librerías necesarias\n",
    "import requests\n",
    "from bs4 import BeautifulSoup\n",
    "\n",
    "# Obtener HTML de la página\n",
    "url_tesla = \"https://cf-courses-data.s3.us.cloud-object-storage.appdomain.cloud/IBMDeveloperSkillsNetwork-DA0101EN-SkillsNetwork/labs/module_5/tesla_revenue.html\"\n",
    "html_data_tesla = requests.get(url_tesla).text\n",
    "\n",
    "# Parsear HTML con BeautifulSoup\n",
    "soup_tesla = BeautifulSoup(html_data_tesla, \"html.parser\")\n",
    "\n",
    "# Extraer la tabla con pandas\n",
    "tesla_revenue = pd.read_html(str(soup_tesla.find(\"table\")))[0]\n",
    "\n",
    "# Renombrar columnas si es necesario\n",
    "tesla_revenue.columns = [\"Date\", \"Revenue\"]\n",
    "\n",
    "# Mostrar las últimas 5 filas\n",
    "tesla_revenue.tail()\n"
   ]
  },
  {
   "cell_type": "markdown",
   "id": "50d2014f",
   "metadata": {},
   "source": [
    "### Pregunta 3: Extracción de datos históricos de GameStop con yfinance"
   ]
  },
  {
   "cell_type": "code",
   "execution_count": null,
   "id": "8e780cb8",
   "metadata": {},
   "outputs": [],
   "source": [
    "# Obtener datos históricos de GameStop\n",
    "gme = yf.Ticker(\"GME\")\n",
    "gme_data = gme.history(period=\"max\")\n",
    "\n",
    "# Resetear el índice para que 'Date' sea una columna\n",
    "gme_data.reset_index(inplace=True)\n",
    "\n",
    "# Mostrar las primeras 5 filas\n",
    "gme_data.head()\n"
   ]
  },
  {
   "cell_type": "markdown",
   "id": "1b747577",
   "metadata": {},
   "source": [
    "### Pregunta 4: Webscraping para obtener ingresos de GameStop"
   ]
  },
  {
   "cell_type": "code",
   "execution_count": null,
   "id": "05f34666",
   "metadata": {},
   "outputs": [],
   "source": [
    "# Obtener HTML de la página\n",
    "url_gme = \"https://cf-courses-data.s3.us.cloud-object-storage.appdomain.cloud/IBMDeveloperSkillsNetwork-DA0101EN-SkillsNetwork/labs/module_5/gme_revenue.html\"\n",
    "html_data_gme = requests.get(url_gme).text\n",
    "\n",
    "# Parsear HTML con BeautifulSoup\n",
    "soup_gme = BeautifulSoup(html_data_gme, \"html.parser\")\n",
    "\n",
    "# Extraer la tabla con pandas\n",
    "gme_revenue = pd.read_html(str(soup_gme.find(\"table\")))[0]\n",
    "\n",
    "# Renombrar columnas si es necesario\n",
    "gme_revenue.columns = [\"Date\", \"Revenue\"]\n",
    "\n",
    "# Mostrar las últimas 5 filas\n",
    "gme_revenue.tail()\n"
   ]
  },
  {
   "cell_type": "markdown",
   "id": "dbdf5e8c",
   "metadata": {},
   "source": [
    "### Pregunta 5: Gráfico del precio de cierre de Tesla"
   ]
  },
  {
   "cell_type": "code",
   "execution_count": null,
   "id": "9fbe3916",
   "metadata": {},
   "outputs": [],
   "source": [
    "import matplotlib.pyplot as plt\n",
    "\n",
    "# Función para graficar\n",
    "def make_graph(stock_data, title):\n",
    "    plt.figure(figsize=(12,6))\n",
    "    plt.plot(stock_data['Date'], stock_data['Close'], label='Precio de Cierre')\n",
    "    plt.title(title)\n",
    "    plt.xlabel(\"Fecha\")\n",
    "    plt.ylabel(\"Precio de Cierre (USD)\")\n",
    "    plt.legend()\n",
    "    plt.grid(True)\n",
    "    plt.show()\n",
    "\n",
    "# Graficar datos de Tesla\n",
    "make_graph(tesla_data, \"Evolución del Precio de Cierre de Tesla\")\n"
   ]
  },
  {
   "cell_type": "markdown",
   "id": "02aeb54b",
   "metadata": {},
   "source": [
    "### Pregunta 6: Gráfico del precio de cierre de GameStop"
   ]
  },
  {
   "cell_type": "code",
   "execution_count": null,
   "id": "219279b9",
   "metadata": {},
   "outputs": [],
   "source": [
    "# Graficar datos de GameStop\n",
    "make_graph(gme_data, \"Evolución del Precio de Cierre de GameStop\")\n"
   ]
  }
 ],
 "metadata": {
  "kernelspec": {
   "display_name": "Python 3",
   "name": "python3"
  },
  "language_info": {
   "name": "python"
  }
 },
 "nbformat": 4,
 "nbformat_minor": 5
}
